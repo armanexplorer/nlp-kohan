{
 "cells": [
  {
   "cell_type": "code",
   "execution_count": 4,
   "id": "9c9408db",
   "metadata": {},
   "outputs": [],
   "source": [
    "import random \n",
    "import numpy as np\n",
    "import nltk\n",
    "import pandas as pd\n",
    "import codecs\n",
    "import tqdm\n",
    "\n"
   ]
  },
  {
   "cell_type": "code",
   "execution_count": 5,
   "id": "6dc19320",
   "metadata": {},
   "outputs": [],
   "source": [
    "FARSI_NET_TOKEN = 'd3cc19bc-3b91-11eb-8a1e-080027d731c1'\n",
    "FARSI_NET_USERNAME = 'armanexplorer'\n",
    "\n",
    "GANJOOR_PATH = 'course-nlp-ir-1-text-exploring/exploring-datasets/literature/iranian/ganjoor_collection'\n",
    "GAZALS_FILE_PATH = 'course-nlp-ir-1-text-exploring/exploring-datasets/literature/iranian/qazals/all_qazals_mesra.txt'"
   ]
  },
  {
   "cell_type": "code",
   "execution_count": 6,
   "id": "f73ea317",
   "metadata": {
    "scrolled": true
   },
   "outputs": [],
   "source": [
    "# Hafez and Saadi collection -- Hafez [0:8384] Saadi[9384::]\n",
    "HAFEZ_end=8384\n",
    "SAADI_start=9384\n",
    "mesra_collection = codecs.open(GAZALS_FILE_PATH,'rU','utf-8').readlines()"
   ]
  },
  {
   "cell_type": "code",
   "execution_count": 7,
   "id": "d89e7005",
   "metadata": {},
   "outputs": [],
   "source": [
    "mesra_collection = mesra_collection[:40]"
   ]
  },
  {
   "cell_type": "code",
   "execution_count": 8,
   "id": "bae3a096",
   "metadata": {},
   "outputs": [
    {
     "name": "stderr",
     "output_type": "stream",
     "text": [
      "100%|███████████████████████████████████████████████████████████████████████████████████████████████████████████████████████████| 40/40 [00:00<00:00, 164.20it/s]\n"
     ]
    }
   ],
   "source": [
    "from hazm import Normalizer\n",
    "normalizer = Normalizer(token_based=True, kohan_style=True)\n",
    "\n",
    "mesra_normalized = [normalizer.normalize(x) for x in tqdm.tqdm(mesra_collection)]"
   ]
  },
  {
   "cell_type": "code",
   "execution_count": 9,
   "id": "aca42fa6",
   "metadata": {},
   "outputs": [
    {
     "data": {
      "text/plain": [
       "['الا یا ایها الساقی ادر کاسا و ناولها',\n",
       " 'که عشق آسان نمود اول ولی افتاد مشکل\\u200cها',\n",
       " 'به بوی نافه\\u200cای که آخر صبا از آن طره بگشاید',\n",
       " 'از تاب جعد مشکینش چه خون افتاد در دل\\u200cها',\n",
       " 'مرا در منزل جانان چه امن عیش چون هر دم',\n",
       " 'جرس فریاد می\\u200cدارد که بربندید محمل\\u200cها',\n",
       " 'به می سجاده رنگین کن گرت پیر مغان گوید',\n",
       " 'که سالک بی\\u200cخبر نبود از راه و رسم منزل\\u200cها',\n",
       " 'شب تاریک و بیم موج و گردابی چنین هایل',\n",
       " 'کجا دانند حال ما سبکباران ساحل\\u200cها',\n",
       " 'همه کارم از خود کامی به بدنامی کشید آخر',\n",
       " 'نهان کی ماند آن رازی که از او سازند محفل\\u200cها',\n",
       " 'حضوری اگر همی\\u200cخواهی از او غایب مشو حافظ',\n",
       " 'متی ما تلق من تهوی دع الدنیا و اهملها',\n",
       " 'صلاح کار کجا و من خراب کجا',\n",
       " 'ببین تفاوت ره که از کجاست تا به کجا',\n",
       " 'دلم از صومعه بگرفت و خرقه سالوس',\n",
       " 'کجاست دیر مغان و شراب ناب کجا',\n",
       " 'چه نسبت است به رندی صلاح و تقوا را',\n",
       " 'سماع وعظ کجا نغمه رباب کجا',\n",
       " 'از روی دوست دل دشمنان چه دریابد',\n",
       " 'چراغ مرده کجا شمع آفتاب کجا',\n",
       " 'چو کحل بینش ما خاک آستان شماست',\n",
       " 'کجا رویم بفرما از این جناب کجا',\n",
       " 'مبین به سیب زنخدان که چاه در راه است',\n",
       " 'کجا همی\\u200cروی ای دل بدین شتاب کجا',\n",
       " 'بشد که یاد خوشش باد روزگار وصال',\n",
       " 'خود آن کرشمه کجا رفت و آن عتاب کجا',\n",
       " 'قرار و خواب از حافظ طمع مدار\\u200cای دوست',\n",
       " 'قرار چیست صبوری کدام و خواب کجا',\n",
       " 'اگر آن ترک شیرازی به دست آرد دل ما را',\n",
       " 'به خال هندویش بخشم سمرقند و بخارا را',\n",
       " 'بده ساقی می باقی که در جنت نخواهی یافت',\n",
       " 'کنار آب رکن\\u200cآباد و گلگشت مصلا را',\n",
       " 'فغان که این لولیان شوخ شیرین\\u200cکار شهرآشوب',\n",
       " 'چنان بردند صبر از دل که ترکان خوان یغما را',\n",
       " 'از عشق ناتمام ما جمال یار مستغنی است',\n",
       " 'به آب و رنگ و خال و خط چه حاجت روی زیبا را',\n",
       " 'من از آن حسن روزافزون که یوسف داشت دانستم',\n",
       " 'که عشق از پرده عصمت برون آرد زلیخا را']"
      ]
     },
     "execution_count": 9,
     "metadata": {},
     "output_type": "execute_result"
    }
   ],
   "source": [
    "mesra_normalized\n"
   ]
  },
  {
   "cell_type": "code",
   "execution_count": 1,
   "id": "c7f70c6d",
   "metadata": {},
   "outputs": [],
   "source": [
    "from hazm import Lemmatizer, Normalizer\n",
    "\n",
    "lem = Lemmatizer()\n",
    "\n",
    "# lem.conjugations('گفت#گوی')\n",
    "\n",
    "norm = Normalizer(token_based=True, kohan_style=True)"
   ]
  },
  {
   "cell_type": "code",
   "execution_count": 3,
   "id": "1ca6d33f",
   "metadata": {},
   "outputs": [
    {
     "data": {
      "text/plain": [
       "'می\\u200cخواسته\\u200cام بروم به صحرا'"
      ]
     },
     "execution_count": 3,
     "metadata": {},
     "output_type": "execute_result"
    }
   ],
   "source": [
    "norm.normalize('می خواسته ام بروم به صحرا')\n"
   ]
  },
  {
   "cell_type": "code",
   "execution_count": null,
   "id": "3c486970",
   "metadata": {},
   "outputs": [],
   "source": []
  }
 ],
 "metadata": {
  "kernelspec": {
   "display_name": "Python 3 (ipykernel)",
   "language": "python",
   "name": "python3"
  },
  "language_info": {
   "codemirror_mode": {
    "name": "ipython",
    "version": 3
   },
   "file_extension": ".py",
   "mimetype": "text/x-python",
   "name": "python",
   "nbconvert_exporter": "python",
   "pygments_lexer": "ipython3",
   "version": "3.9.12"
  }
 },
 "nbformat": 4,
 "nbformat_minor": 5
}
