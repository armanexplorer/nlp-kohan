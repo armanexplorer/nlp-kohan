{
 "cells": [
  {
   "cell_type": "markdown",
   "metadata": {
    "id": "oEOD2A9W_kLc"
   },
   "source": [
    "<div dir=rtl>\n",
    "\n",
    "<h1>\n",
    "به نام خدا\n",
    "</h1>\n",
    "درس پردازش زبان‌های طبیعی\n",
    "\n",
    "پاییز ۱۴۰۰\n",
    "\n",
    "دانشگاه صنعتی شریف\n",
    "\n",
    "</div>\n"
   ]
  },
  {
   "cell_type": "markdown",
   "metadata": {
    "id": "PpN36faYJJ3D"
   },
   "source": [
    "<div dir=rtl>\n",
    "\n",
    "#معرفی\n",
    "</div>"
   ]
  },
  {
   "cell_type": "markdown",
   "metadata": {
    "id": "u3LGFns3_1PJ"
   },
   "source": [
    "<div dir=rtl>\n",
    "\n",
    "هدف از این نوت‌بوک معرفی و تشریح نحوه استفاده از ابزار «فارس‌نت» است.  \n",
    "\n",
    "فارس‌نت نخستین ، دقیقترین و بزرگترین وردنت فارسی است که در آزمایشگاه پردازش زبان طبیعی دانشگاه شهید بهشتی و با حمایت مرکز تحقیقات مخابرات ایران توسعه یافته است. آخرین نسخه فارس‌نت (نسخه 3) دارای بیش از 100 هزار مدخل واژگانی (واژه یا عبارت) است که در حدود 40 هزار مجموعه ترادف جا گرفته اند. برای هر مدخل حداقل یک معنی تعریف شده و هر معنی در یک و فقط یک مجموعه ترادف شرکت می کند. کلیه مجموعه‌های ترادف یا در سلسله مراتب شرکت می کنند و یا به عنوان سرگروه معرفی می شوند. درضمن هر مجموعه ترادف یا حداقل یکی از اعضا آن در حداقل یک رابطه غیر سلسله مراتبی شرکت نموده است. همچنین هر مجموعه ترادف در صورت امکان به مجموعه ترادف نظیر در وردنت 3.0 پرینستون نگاشت شده است.\n",
    "\n",
    "</div>"
   ]
  },
  {
   "cell_type": "markdown",
   "metadata": {
    "id": "-h8Xwl6ABRu_"
   },
   "source": [
    "<div dir=rtl>\n",
    "\n",
    "#نحوه استفاده از فارس‌نت در پایتون\n",
    "\n",
    "</div>"
   ]
  },
  {
   "cell_type": "markdown",
   "metadata": {
    "id": "7Ki0VkQjEIQK"
   },
   "source": [
    "<div dir=rtl>\n",
    "\n",
    "برای استفاده از این ابزار باید ابتدا در [سایت فارس‌نت](http://farsnet.nlp.sbu.ac.ir/) ثبت‌نام کنید و نام کاربری خود را مشخص کرده و توکن مخصوص به خود را دریافت کنید.\n",
    "\n",
    "پس از آن به طریق زیر می‌توانید در کد پایتون خود به وب سرویس فارس‌نت متصل شده و توابع آن را فراخوانی کنید.\n",
    "\n",
    "در تمام متدها پارامتر userKey به عنوان کلید اعتبارسنجی درخواست کننده سرویس ارایه می شود. در صورتیکه کلید نامعتبر باشد یا اعتبار آن پایان یافت باشد (حداکثر تعداد فراخوانی در بازه زمانی مشخص شده انجام شده باشد) خروجی تمامی متدها مقدار NULL خواهد بود.\n",
    "</div>"
   ]
  },
  {
   "cell_type": "code",
   "execution_count": null,
   "metadata": {
    "id": "ZksfAtM8LLBD"
   },
   "outputs": [],
   "source": [
    "#  نصب کتاب‌خانه مورد نیاز برای اتصال به وب‌سرویس فارس‌نت\n",
    "! pip install zeep"
   ]
  },
  {
   "cell_type": "code",
   "execution_count": null,
   "metadata": {
    "id": "uJ-MF4C4B65G"
   },
   "outputs": [],
   "source": [
    "from zeep import Client\n",
    "from requests.auth import HTTPBasicAuth\n",
    "from requests import Session\n",
    "from zeep.transports import Transport"
   ]
  },
  {
   "cell_type": "code",
   "execution_count": null,
   "metadata": {
    "id": "CfvDvzLlKUsr"
   },
   "outputs": [],
   "source": [
    "# address of FarsNet's web services\n",
    "wsdl_sense_service = 'http://nlp.sbu.ac.ir:8180/WebAPI/services/SenseService?WSDL'\n",
    "wsdl_synset_service = 'http://nlp.sbu.ac.ir:8180/WebAPI/services/SynsetService?WSDL'\n",
    "\n",
    "\n",
    "# username and token needed for authentication. You can get this token by signing up on http://farsnet.nlp.sbu.ac.ir\n",
    "username = 'your username'\n",
    "token = 'your token'\n",
    "\n",
    "# connecting client\n",
    "session = Session()\n",
    "session.auth = HTTPBasicAuth(username, token)\n",
    "client_sense = Client(wsdl_sense_service, transport=Transport(session=session))\n",
    "client_synset = Client(wsdl_synset_service, transport=Transport(session=session))"
   ]
  },
  {
   "cell_type": "markdown",
   "metadata": {
    "id": "jmOPcBxVIHPW"
   },
   "source": [
    "<div dir=rtl>\n",
    "\n",
    "حال که کلاینت‌ها با موفقیت متصل شدند، می توانید توابع مختلف سرویس‌های فارس‌نت را فراخوانی کنید. می‌توانید در این [فایل](http://farsnet.nlp.sbu.ac.ir/Site3/Resources/Download/IEOF4JY3EY71068DETWB/Farsnet%20Webservice%20Help.pdf) لیست کامل توابع موجود در فارس‌نت و جزئیات ورودی و خروجی آن‌ها و کارکردشان را مشاهده کنید.\n",
    "\n",
    "در ادامه برای مثال برخی از این توابع را فراخوانی کرده و خروجی آن‌ها را نشان می‌دهیم.\n",
    "</div>"
   ]
  },
  {
   "cell_type": "markdown",
   "metadata": {
    "id": "yZABRcV6J9xx"
   },
   "source": [
    "<div dir=rtl>\n",
    "\n",
    "##فراخوانی چند تابع SynsetService\n",
    "\n",
    "</div>"
   ]
  },
  {
   "cell_type": "markdown",
   "metadata": {
    "id": "L1vf9E-pPwMO"
   },
   "source": [
    "<div dir=rtl>\n",
    "\n",
    "وب سرویس Synset Service جهت واکشی اطلاعات Synset ها ، روابط و...سایر اطلاعات مربوط به آنها می باشد و خروجی های در قالب اشیاء داده ای Synset، SynsetRelation ارایه می کند.\n",
    "\n",
    "در واقع این کلاس وظیفه جستجو و واکشی اطلاعات و داده‌های مجموعه ترادف‌ها را برعهده دارد. \n",
    "</div>"
   ]
  },
  {
   "cell_type": "code",
   "execution_count": null,
   "metadata": {
    "colab": {
     "base_uri": "https://localhost:8080/"
    },
    "id": "AOB8JX9bGviT",
    "outputId": "e70f838c-1a13-4420-9f93-c75efcc45d83"
   },
   "outputs": [
    {
     "name": "stdout",
     "output_type": "stream",
     "text": [
      "[{'content': 'سيم\\u200cکشي روکار', 'id': 151952, 'lexicon': '--ازخودم--'}, {'content': 'لوله\\u200cکشي روکار', 'id': 152114, 'lexicon': '--ازخودم--'}]\n",
      "{'id': 1, 'noMapping': '0', 'nofather': '0', 'pos': 'Adjective', 'semanticCategory': 'spatial'}\n",
      "--------------------------------\n",
      "[{'content': 'سيم\\u200cکشي توکار', 'id': 61581, 'lexicon': '--نامعلوم--'}, {'content': ' سيستم لوله\\u200cکشي داخلي منازل بايد هر چند وقت يکبار کنترل شود', 'id': 152115, 'lexicon': 'وب'}]\n",
      "{'id': 2, 'noMapping': '0', 'nofather': '0', 'pos': 'Adjective', 'semanticCategory': 'spatial'}\n",
      "--------------------------------\n",
      "[{'content': 'آب خنک هميشه مي چسبد', 'id': 61583, 'lexicon': '--نامعلوم--'}, {'content': 'اينجا هواي خنک و دلچسبي دارد', 'id': 61584, 'lexicon': '--نامعلوم--'}]\n",
      "{'id': 3, 'noMapping': '0', 'nofather': '0', 'pos': 'Adjective', 'semanticCategory': 'conceptual'}\n",
      "--------------------------------\n",
      "[{'content': 'آهن داغ', 'id': 61586, 'lexicon': '--نامعلوم--'}, {'content': 'زغال هاي گداخته', 'id': 61587, 'lexicon': '--نامعلوم--'}]\n",
      "{'id': 4, 'noMapping': '0', 'nofather': '0', 'pos': 'Adjective', 'semanticCategory': 'conceptual'}\n",
      "--------------------------------\n",
      "[{'content': 'انسان معمولا با دوستان صميمي درددل مي کند', 'id': 61589, 'lexicon': '--نامعلوم--'}, {'content': 'ياران همدل', 'id': 61590, 'lexicon': '--نامعلوم--'}, {'content': 'رفيقان نزديک', 'id': 61591, 'lexicon': '--نامعلوم--'}]\n",
      "{'id': 5, 'noMapping': '0', 'nofather': '0', 'pos': 'Adjective', 'semanticCategory': 'conceptual'}\n",
      "--------------------------------\n"
     ]
    }
   ],
   "source": [
    "# Seeing some examples of sentences in a synonym set and the details of their respective synonym sets\n",
    "for i in range(10):\n",
    "    sentences = client_synset_service.service.getSynsetExamples(token, i+1)\n",
    "    print(sentences)\n",
    "    synset = client_synset_service.service.getSynsetById(token, i+1)\n",
    "    print(synset)\n",
    "    print('--------------------------------')"
   ]
  },
  {
   "cell_type": "code",
   "execution_count": null,
   "metadata": {
    "colab": {
     "base_uri": "https://localhost:8080/"
    },
    "id": "U11wJ4U2LDru",
    "outputId": "2b3ee46b-e9f0-4086-fbe3-f6267d0b7cd6"
   },
   "outputs": [
    {
     "name": "stdout",
     "output_type": "stream",
     "text": [
      "{'id': 1, 'noMapping': '0', 'nofather': '0', 'pos': 'Adjective', 'semanticCategory': 'spatial'}\n",
      "[{'example': 'outside', 'gloss': 'relating to or being on or near the outer side or limit; \"an outside margin\"', 'id': 41582, 'synset': 1, 'type': 'Equivalence', 'wnOffset': '1697422', 'wnPos': 'ADJECTIVE'}]\n",
      "--------------------------------\n",
      "{'id': 2, 'noMapping': '0', 'nofather': '0', 'pos': 'Adjective', 'semanticCategory': 'spatial'}\n",
      "[{'example': ' , inside', 'gloss': 'relating to or being on the side closer to the center or within a defined space; \"he reached into his inside jacket pocket\"; \"inside out\"; \"an inside pitch is between home plate and the batter\"', 'id': 69279, 'synset': 2, 'type': 'Equivalence', 'wnOffset': '1698252', 'wnPos': 'ADJECTIVE'}, {'example': ' , inside', 'gloss': 'being or applying to the inside of a building; \"an inside wall\"', 'id': 69280, 'synset': 2, 'type': 'Equivalence', 'wnOffset': '956403', 'wnPos': 'ADJECTIVE'}]\n",
      "--------------------------------\n",
      "{'id': 3, 'noMapping': '0', 'nofather': '0', 'pos': 'Adjective', 'semanticCategory': 'conceptual'}\n",
      "[{'example': ' , cool', 'gloss': 'neither warm nor very cold; giving relief from heat; \"a cool autumn day\"; \"a cool room\"; \"cool summer dresses\"; \"cool drinks\"; \"a cool breeze\"', 'id': 53490, 'synset': 3, 'type': 'Equivalence', 'wnOffset': '2540350', 'wnPos': 'ADJECTIVE'}]\n",
      "--------------------------------\n",
      "{'id': 4, 'noMapping': '0', 'nofather': '0', 'pos': 'Adjective', 'semanticCategory': 'conceptual'}\n",
      "[{'example': 'hot', 'gloss': 'used of physical heat; having a high or higher than desirable temperature or giving off heat or feeling or causing a sensation of heat or burning; \"hot stove\"; \"hot water\"; \"a hot August day\"; \"a hot stuffy room\"; \"she\\'s hot and tired\"; \"a hot forehead\"', 'id': 32208, 'synset': 4, 'type': 'Equivalence', 'wnOffset': '1250274', 'wnPos': 'Adjective'}]\n",
      "--------------------------------\n",
      "{'id': 5, 'noMapping': '0', 'nofather': '0', 'pos': 'Adjective', 'semanticCategory': 'conceptual'}\n",
      "[{'example': ' , intimate', 'gloss': 'marked by close acquaintance, association, or familiarity; \"intimate friend\"; \"intimate relations between economics, politics, and legal principles\" - V.L. Parrington', 'id': 53492, 'synset': 5, 'type': 'Equivalence', 'wnOffset': '455341', 'wnPos': 'ADJECTIVE'}]\n",
      "--------------------------------\n"
     ]
    }
   ],
   "source": [
    "# Seeing some examples of Farsi synonym sets and their equivalent in English WordNet\n",
    "for i in range(5):\n",
    "    farsi_synset = client_synset_service.service.getSynsetById(token, i+1)\n",
    "    print(farsi_synset)\n",
    "    english_synset = client_synset_service.service.getWordNetSynsets(token, i+1)\n",
    "    print(english_synset)\n",
    "    print('--------------------------------')"
   ]
  },
  {
   "cell_type": "code",
   "execution_count": null,
   "metadata": {
    "id": "2e2BPhATLDon"
   },
   "outputs": [],
   "source": [
    "# More on SynsetService at http://farsnet.nlp.sbu.ac.ir/Site3/Resources/Download/IEOF4JY3EY71068DETWB/Farsnet%20Webservice%20Help.pdf"
   ]
  },
  {
   "cell_type": "markdown",
   "metadata": {
    "id": "2mkoi8A9QHw1"
   },
   "source": [
    "<div dir=rtl>\n",
    "\n",
    "##فراخوانی چند تابع SenseService\n",
    "\n",
    "</div>"
   ]
  },
  {
   "cell_type": "markdown",
   "metadata": {
    "id": "f1nUac9XP9ST"
   },
   "source": [
    "<div dir=rtl>\n",
    "\n",
    "وب سرویس Sense Service جهت واکشی اطلاعات Sense ها ، مقولات نحوی ، آواها و...سایر اطلاعات مربوط به آنها می باشد و خروجی های در قالب اشیاء داده ای Sense ، SenseRelation ، PhoneticForm ،WrittenForm و Word ارایه می کند.\n",
    "\n",
    "در واقع این کلاس وظیفه جستجو و واکشی اطلاعات و داده‌های معناها را برعهده دارد. \n",
    "</div>"
   ]
  },
  {
   "cell_type": "code",
   "execution_count": null,
   "metadata": {
    "id": "A8l1vYVCLDb_"
   },
   "outputs": [],
   "source": [
    "# Searching for \"Sense\" by word\n",
    "search_style = 'Like' # 'Star' or 'End' or 'Exact' may also be used\n",
    "sense = client_sense_service.service.getSensesByWord(token, search_style, search_word)\n",
    "\n",
    "\n",
    "# Searching for \"Sense\" by id\n",
    "id = 104450\n",
    "result = client_sense_service.service.getSenseById(token, id)\n",
    "\n",
    "\n",
    "# Searching for written forms of a word according to its id\n",
    "id = 1\n",
    "written_forms = client_sense_service.service.getWrittenFormsByWord(token, id)\n",
    "\n",
    "\n",
    "# Searching for senses of a synonym set according to id\n",
    "id = 1\n",
    "result = client_sense_service.service.getSensesBySynset(token, id)"
   ]
  },
  {
   "cell_type": "code",
   "execution_count": null,
   "metadata": {
    "id": "RYWpcVZTR_MA"
   },
   "outputs": [],
   "source": [
    "# More on SenseService at http://farsnet.nlp.sbu.ac.ir/Site3/Resources/Download/IEOF4JY3EY71068DETWB/Farsnet%20Webservice%20Help.pdf"
   ]
  }
 ],
 "metadata": {
  "colab": {
   "collapsed_sections": [],
   "name": "FarsNet.ipynb",
   "provenance": []
  },
  "kernelspec": {
   "display_name": "Python 3 (ipykernel)",
   "language": "python",
   "name": "python3"
  },
  "language_info": {
   "codemirror_mode": {
    "name": "ipython",
    "version": 3
   },
   "file_extension": ".py",
   "mimetype": "text/x-python",
   "name": "python",
   "nbconvert_exporter": "python",
   "pygments_lexer": "ipython3",
   "version": "3.9.0"
  }
 },
 "nbformat": 4,
 "nbformat_minor": 1
}
