{
 "cells": [
  {
   "cell_type": "code",
   "execution_count": 1,
   "id": "9c9408db",
   "metadata": {},
   "outputs": [],
   "source": [
    "import random \n",
    "import numpy as np\n",
    "import nltk\n",
    "import pandas as pd\n",
    "import codecs\n",
    "import tqdm\n",
    "\n"
   ]
  },
  {
   "cell_type": "code",
   "execution_count": 2,
   "id": "6dc19320",
   "metadata": {},
   "outputs": [],
   "source": [
    "FARSI_NET_TOKEN = 'd3cc19bc-3b91-11eb-8a1e-080027d731c1'\n",
    "FARSI_NET_USERNAME = 'armanexplorer'\n",
    "\n",
    "GANJOOR_PATH = 'course-nlp-ir-1-text-exploring/exploring-datasets/literature/iranian/ganjoor_collection'\n",
    "GAZALS_FILE_PATH = 'course-nlp-ir-1-text-exploring/exploring-datasets/literature/iranian/qazals/all_qazals_mesra.txt'"
   ]
  },
  {
   "cell_type": "code",
   "execution_count": 3,
   "id": "f73ea317",
   "metadata": {
    "scrolled": true
   },
   "outputs": [],
   "source": [
    "# Hafez and Saadi collection -- Hafez [0:8384] Saadi[9384::]\n",
    "HAFEZ_end=8384\n",
    "SAADI_start=9384\n",
    "mesra_collection = codecs.open(GAZALS_FILE_PATH,'rU','utf-8').readlines()"
   ]
  },
  {
   "cell_type": "code",
   "execution_count": 4,
   "id": "d89e7005",
   "metadata": {},
   "outputs": [],
   "source": [
    "mesra_collection = mesra_collection[40:80]"
   ]
  },
  {
   "cell_type": "code",
   "execution_count": 5,
   "id": "bae3a096",
   "metadata": {},
   "outputs": [
    {
     "name": "stderr",
     "output_type": "stream",
     "text": [
      "100%|███████████████████████████████████████████████████████████████████| 40/40 [00:00<00:00, 245.73it/s]\n"
     ]
    }
   ],
   "source": [
    "from hazm import Normalizer\n",
    "normalizer = Normalizer(token_based=True, kohan_style=True)\n",
    "\n",
    "mesra_normalized = [normalizer.normalize(x) for x in tqdm.tqdm(mesra_collection)]"
   ]
  },
  {
   "cell_type": "code",
   "execution_count": 6,
   "id": "aca42fa6",
   "metadata": {},
   "outputs": [
    {
     "data": {
      "text/plain": [
       "['اگر دشنام فرمایی و اگر نفرین دعا گویم',\n",
       " 'جواب تلخ می\\u200cزیبد لب لعل شکرخا را',\n",
       " 'نصیحت گوش کن جانا که از جان دوست\\u200cتر دارند',\n",
       " 'جوانان سعادتمند پند پیر دانا را',\n",
       " 'حدیث از مطرب و می گو و راز دهر کمتر جو',\n",
       " 'که کس نگشود و نگشاید به حکمت این معما را',\n",
       " 'غزل گفتی و در سفتی بیا و خوش بخوان حافظ',\n",
       " 'که بر نظم تو افشاند فلک عقد ثریا را',\n",
       " 'صبا به لطف بگو آن غزال رعنا را',\n",
       " 'که سر به کوه و بیابان تو داده\\u200cای ما را',\n",
       " 'شکرفروش که عمرش دراز باد چرا',\n",
       " 'تفقدی نکند طوطی شکرخا را',\n",
       " 'غرور حسنت اجازت اگر نداد ای گل',\n",
       " 'که پرسشی نکنی عندلیب شیدا را',\n",
       " 'به خلق و لطف توان کرد صید اهل نظر',\n",
       " 'به بند و دام نگیرند مرغ دانا را',\n",
       " 'ندانم از چه سبب رنگ آشنایی نیست',\n",
       " 'سهی قدان سیه چشم ماه سیما را',\n",
       " 'چو با حبیب نشینی و باده پیمایی',\n",
       " 'به یاد دار محبان بادپیما را',\n",
       " 'جز این قدر نتوان گفت در جمال تو عیب',\n",
       " 'که وضع مهر و وفا نیست روی زیبا را',\n",
       " 'در آسمان نه عجب اگر به گفته حافظ',\n",
       " 'سرود زهره به رقص آورد مسیحا را',\n",
       " 'دل می\\u200cرود از دستم صاحب دلان خدا را',\n",
       " 'دردا که راز پنهان خواهد شد آشکارا',\n",
       " 'کشتی شکستگانیم ای باد شرطه برخیز',\n",
       " 'باشد که بازبینیم دیدار آشنا را',\n",
       " 'ده روزه مهر گردون افسانه است و افسون',\n",
       " 'نیکی به جای یاران فرصت شمار یارا',\n",
       " 'در حلقه گل و مل خوش خواند دوش بلبل',\n",
       " 'هات الصبوح هبوا یا ایها السکارا',\n",
       " 'ای صاحب کرامت شکرانه سلامت',\n",
       " 'روزی تفقدی کن درویش بی\\u200cنوا را',\n",
       " 'آسایش دو گیتی تفسیر این دو حرف است',\n",
       " 'با دوستان مروت با دشمنان مدارا',\n",
       " 'در کوی نیک\\u200cنامی ما را گذر ندادند',\n",
       " 'اگر تو نمی\\u200cپسندی تغییر کن قضا را',\n",
       " 'آن تلخ وش که صوفی ام الخبائثش خواند',\n",
       " 'اشهی لنا و احلی من قبله العذارا']"
      ]
     },
     "execution_count": 6,
     "metadata": {},
     "output_type": "execute_result"
    }
   ],
   "source": [
    "mesra_normalized\n"
   ]
  },
  {
   "cell_type": "code",
   "execution_count": 4,
   "id": "c7f70c6d",
   "metadata": {},
   "outputs": [],
   "source": [
    "from hazm import Lemmatizer, Normalizer\n",
    "\n",
    "lem = Lemmatizer()\n",
    "\n",
    "# lem.conjugations('گفت#گوی')\n",
    "\n",
    "norm = Normalizer(token_based=True, kohan_style=True)"
   ]
  },
  {
   "cell_type": "code",
   "execution_count": 5,
   "id": "1ca6d33f",
   "metadata": {},
   "outputs": [
    {
     "data": {
      "text/plain": [
       "'اوفتادم'"
      ]
     },
     "execution_count": 5,
     "metadata": {},
     "output_type": "execute_result"
    }
   ],
   "source": [
    "norm.normalize('اوفتادم')\n"
   ]
  },
  {
   "cell_type": "code",
   "execution_count": 6,
   "id": "3c486970",
   "metadata": {},
   "outputs": [
    {
     "data": {
      "text/plain": [
       "'#است'"
      ]
     },
     "execution_count": 6,
     "metadata": {},
     "output_type": "execute_result"
    }
   ],
   "source": [
    "lem.lemmatize(\"\")\n"
   ]
  },
  {
   "cell_type": "code",
   "execution_count": null,
   "id": "be8d6510",
   "metadata": {},
   "outputs": [],
   "source": []
  },
  {
   "cell_type": "code",
   "execution_count": null,
   "id": "3937f669",
   "metadata": {},
   "outputs": [],
   "source": []
  }
 ],
 "metadata": {
  "kernelspec": {
   "display_name": "Python 3 (ipykernel)",
   "language": "python",
   "name": "python3"
  },
  "language_info": {
   "codemirror_mode": {
    "name": "ipython",
    "version": 3
   },
   "file_extension": ".py",
   "mimetype": "text/x-python",
   "name": "python",
   "nbconvert_exporter": "python",
   "pygments_lexer": "ipython3",
   "version": "3.10.5"
  }
 },
 "nbformat": 4,
 "nbformat_minor": 5
}
